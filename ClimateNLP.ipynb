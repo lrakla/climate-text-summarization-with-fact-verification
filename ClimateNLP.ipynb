{
 "cells": [
  {
   "cell_type": "code",
   "execution_count": null,
   "id": "6816976e",
   "metadata": {
    "scrolled": true
   },
   "outputs": [],
   "source": [
    "# !pip install transformers==4.28.0 datasets evaluate rouge_score\n",
    "# !pip install -U sentence-transformers \n",
    "# !pip install bert-extractive-summarizer"
   ]
  },
  {
   "cell_type": "code",
   "execution_count": null,
   "id": "28b68969",
   "metadata": {},
   "outputs": [],
   "source": [
    "from datasets import load_dataset, Dataset\n",
    "from summarizer.sbert import SBertSummarizer\n",
    "import transformers\n",
    "from evaluate import load\n",
    "from huggingface_hub import notebook_login\n",
    "from transformers import AutoTokenizer,pipeline\n",
    "from transformers import Trainer as HFTrainer\n",
    "from transformers import TrainingArguments\n",
    "from transformers import AutoModel, AutoModelForSeq2SeqLM, DataCollatorForSeq2Seq, Seq2SeqTrainingArguments,Seq2SeqTrainer\n",
    "from transformers import RobertaTokenizer, RobertaForSequenceClassification,AutoModelForSequenceClassification\n",
    "\n",
    "import torch\n",
    "import os\n",
    "import pandas as pd\n",
    "import numpy as np\n",
    "import nltk\n",
    "nltk.download('punkt')\n",
    "import warnings\n",
    "warnings.filterwarnings(\"ignore\")\n",
    "import process_data\n",
    "import evaluate_model\n",
    "import inference\n",
    "import train\n",
    "import  importlib\n",
    "importlib.reload(process_data)\n",
    "importlib.reload(train)\n",
    "importlib.reload(inference)\n",
    "importlib.reload(evaluate_model)\n",
    "from process_data import processData\n",
    "from train import Trainer\n",
    "from inference import *\n",
    "from evaluate_model import Evaluate"
   ]
  },
  {
   "cell_type": "code",
   "execution_count": null,
   "id": "9436d94c",
   "metadata": {},
   "outputs": [],
   "source": [
    "data_folder = 'data'\n",
    "PARAMS = {'no_of_train': 649, \n",
    "          'no_of_test' :  50,\n",
    "          'max_input_length': 1024,\n",
    "        'max_target_length':128,\n",
    "             'max_new_length': 1024,\n",
    "             'min_length': 200,\n",
    "         'eval_strategy': 'epoch',\n",
    "         'batch_size': 8,\n",
    "        'gradient_accumulation_steps':1,\n",
    "         'lr':2e-5,\n",
    "         'decay':0.01,\n",
    "          'epochs':1,\n",
    "          'metric': 'rouge',\n",
    "          'fp16': True,\n",
    "          'load_best_model' : False,\n",
    "          'save_strategy': 'epoch',\n",
    "          'save_total_limit':2\n",
    "         }\n",
    "\n",
    "PARAMS_FLAN = {'no_of_train': 649, \n",
    "          'no_of_test' :  50,\n",
    "          'max_input_length': 1024,\n",
    "        'max_target_length':128,\n",
    "             'max_new_length': 1024,\n",
    "             'min_length': 200,\n",
    "         'eval_strategy': 'epoch',\n",
    "         'batch_size': 4,\n",
    "        'gradient_accumulation_steps':1,\n",
    "         'lr':1e-5,\n",
    "         'decay':0.01,\n",
    "          'epochs':10,\n",
    "            'metric': 'rouge',\n",
    "            'fp16': False,\n",
    "            'load_best_model' : False,\n",
    "          'save_strategy': 'no',\n",
    "          'save_total_limit':2\n",
    "         }\n",
    "PARAMS_BART = {'no_of_train': 649, \n",
    "          'no_of_test' :  50,\n",
    "          'max_input_length': 1024,\n",
    "        'max_target_length':128,\n",
    "             'max_new_length': 1024,\n",
    "             'min_length': 200,\n",
    "         'eval_strategy': 'epoch',\n",
    "         'batch_size': 1,\n",
    "        'gradient_accumulation_steps':4,\n",
    "         'lr':1e-5,\n",
    "         'decay':0.01,\n",
    "          'epochs':10,\n",
    "            'metric': 'rouge',\n",
    "            'fp16': True,\n",
    "            'load_best_model' : False,\n",
    "          'save_strategy': 'no',\n",
    "          'save_total_limit':2\n",
    "         }"
   ]
  },
  {
   "cell_type": "code",
   "execution_count": null,
   "id": "7d857a0f",
   "metadata": {},
   "outputs": [],
   "source": [
    "push_to_hub = False\n",
    "if push_to_hub:\n",
    "    from huggingface_hub import notebook_login\n",
    "    notebook_login()\n",
    "print(transformers.__version__)"
   ]
  },
  {
   "cell_type": "code",
   "execution_count": null,
   "id": "7a5b1661",
   "metadata": {},
   "outputs": [],
   "source": [
    "pD = processData(data_folder)\n",
    "dataset = pD.read_data_huggingface('scidcc_climate.csv', test_name = 'NA')\n",
    "dataset = pD.train_test_split(dataset,no_of_train=PARAMS['no_of_train'], no_of_test = PARAMS['no_of_test'])\n",
    "pD.save_dataset(dataset['train'],'train.csv')\n",
    "pD.save_dataset(dataset['test'],'test.csv')\n",
    "labels = [sample['Saved'] for sample in dataset['test']]"
   ]
  },
  {
   "cell_type": "markdown",
   "id": "ce0b9846",
   "metadata": {},
   "source": [
    "\n",
    "## Extractive Summarization"
   ]
  },
  {
   "cell_type": "code",
   "execution_count": null,
   "id": "fefb645c",
   "metadata": {},
   "outputs": [],
   "source": [
    "ExTrain = GetSummary(dataset,'extractive', model_name = 'paraphrase-MiniLM-L6-v2', test = False)\n",
    "get_train_summary = ExTrain.get_summary(PARAMS)\n",
    "ExTest = GetSummary(dataset,'extractive', model_name = 'paraphrase-MiniLM-L6-v2', test = True)\n",
    "get_test_summary = ExTest.get_summary(PARAMS)"
   ]
  },
  {
   "cell_type": "code",
   "execution_count": 25,
   "id": "a417f399",
   "metadata": {
    "scrolled": true
   },
   "outputs": [],
   "source": [
    "metric = load('rouge')\n",
    "sent_preds = [\"\\n\".join(nltk.sent_tokenize(pred.strip())) for pred in get_test_summary]\n",
    "sent_labels = [\"\\n\".join(nltk.sent_tokenize(label.strip())) for label in labels]\n",
    "scores = metric.compute(predictions=sent_preds, references=sent_labels)\n",
    "result = {key: value for key, value in scores.items()}"
   ]
  },
  {
   "cell_type": "markdown",
   "id": "01633cef",
   "metadata": {},
   "source": [
    "## Abstractive Summarization"
   ]
  },
  {
   "cell_type": "markdown",
   "id": "1089010c",
   "metadata": {},
   "source": [
    "## Model Name :  T-5"
   ]
  },
  {
   "cell_type": "markdown",
   "id": "ff15afb9",
   "metadata": {},
   "source": [
    "### a. Without Finetuning"
   ]
  },
  {
   "cell_type": "code",
   "execution_count": null,
   "id": "08ec6221",
   "metadata": {
    "scrolled": false
   },
   "outputs": [],
   "source": [
    "name = 't5-small'\n",
    "t5Pre = GetSummary(dataset,'abstractive', model_name = name, tokenizer_name = name,test = True)\n",
    "t5_pretrained_summary = t5Pre.get_summary(PARAMS)\n",
    "evaluate = Evaluate('rouge', name)\n",
    "evaluate.compute_metrics(t5_pretrained_summary,labels)"
   ]
  },
  {
   "cell_type": "markdown",
   "id": "c3301dd3",
   "metadata": {},
   "source": [
    "### b. With Finetuning"
   ]
  },
  {
   "cell_type": "code",
   "execution_count": null,
   "id": "e6382643",
   "metadata": {
    "scrolled": true
   },
   "outputs": [],
   "source": [
    "#finetune\n",
    "name = 't5-small'\n",
    "final_name =  't5small-finetuned-scidcc'\n",
    "myTrainer = Trainer(dataset,name,name, PARAMS,final_name)\n",
    "t5_finetuned_summary, labels = myTrainer.run_trainer(save_model = False)\n",
    "evaluate = Evaluate('rouge', final_name)\n",
    "evaluate.compute_metrics(t5_finetuned_summary,labels)"
   ]
  },
  {
   "cell_type": "code",
   "execution_count": null,
   "id": "245e1fdb",
   "metadata": {},
   "outputs": [],
   "source": [
    "# https://discuss.huggingface.co/t/t5-generates-very-short-summaries/277/21\n",
    "# https://towardsdatascience.com/fine-tuning-a-t5-transformer-for-any-summarization-task-82334c64c81\n",
    "name = 't5small-finetuned-scidcc'\n",
    "t5Fin = GetSummary(dataset,'abstractive', model_name = name, tokenizer_name = name ,test = True, finetuned = True)\n",
    "t5_finetuned_summary = t5Fin.get_summary(PARAMS)\n"
   ]
  },
  {
   "cell_type": "markdown",
   "id": "42e25ba3",
   "metadata": {},
   "source": [
    "## Model Name :  FLAN t-5 small"
   ]
  },
  {
   "cell_type": "markdown",
   "id": "7d09441a",
   "metadata": {},
   "source": [
    "### a. Without Finetuning"
   ]
  },
  {
   "cell_type": "code",
   "execution_count": null,
   "id": "643e538e",
   "metadata": {},
   "outputs": [],
   "source": [
    "name = \"google/flan-t5-small\"\n",
    "flanPre = GetSummary(dataset,'abstractive', model_name = name, tokenizer_name = name ,test = True)\n",
    "flan_pretrained_summary = flanPre.get_summary(PARAMS_FLAN)\n"
   ]
  },
  {
   "cell_type": "code",
   "execution_count": null,
   "id": "4ef2b442",
   "metadata": {
    "scrolled": true
   },
   "outputs": [],
   "source": [
    "evaluate = Evaluate('rouge', name)\n",
    "evaluate.compute_metrics(flan_pretrained_summary,labels)"
   ]
  },
  {
   "cell_type": "code",
   "execution_count": null,
   "id": "47e704ec",
   "metadata": {},
   "outputs": [],
   "source": [
    "dataset = pD.read_data_huggingface('test_t5.csv')['train']\n",
    "dataset = flanPre.add_column(flan_pretrained_summary,'flan-t5',dataset)\n",
    "pD.save_dataset(dataset,'flan-t5-pre.csv')"
   ]
  },
  {
   "cell_type": "markdown",
   "id": "53176938",
   "metadata": {},
   "source": [
    "### b. With Finetuning"
   ]
  },
  {
   "cell_type": "code",
   "execution_count": null,
   "id": "15a4ecf9",
   "metadata": {
    "scrolled": false
   },
   "outputs": [],
   "source": [
    "#finetune\n",
    "pD = processData(data_folder)\n",
    "dataset = pD.read_data_huggingface('train_extractive.csv', 'test_extractive.csv')\n",
    "name = \"google/flan-t5-small\"\n",
    "final_name =  'flan-t5-small-finetuned'\n",
    "myTrainer = Trainer(dataset,name,name, PARAMS_FLAN,final_name)\n",
    "flant5_finetuned_summary, labels = myTrainer.run_trainer(save_model = True)\n",
    "evaluate = Evaluate('rouge', final_name)\n",
    "evaluate.compute_metrics(flant5_finetuned_summary,labels)"
   ]
  },
  {
   "cell_type": "code",
   "execution_count": null,
   "id": "db6ad93f",
   "metadata": {},
   "outputs": [],
   "source": [
    "# Inference with max_new_length\n",
    "pD = processData(data_folder)\n",
    "dataset = pD.read_data_huggingface('train_extractive.csv', 'test_extractive.csv')\n",
    "name = \"flan-t5-small-finetuned\"\n",
    "flanFin = GetSummary(dataset,'abstractive', model_name = name, tokenizer_name = name ,test = True)\n",
    "flant5_finetuned_summary = flanFin.get_summary(PARAMS_FLAN)"
   ]
  },
  {
   "cell_type": "code",
   "execution_count": null,
   "id": "1106cd0f",
   "metadata": {
    "scrolled": false
   },
   "outputs": [],
   "source": [
    "dataset = pD.read_data_huggingface('flan-t5-pre.csv')['train']\n",
    "dataset =   dataset.add_column('flan-t5-finetuned', flant5_finetuned_summary)\n",
    "pD.save_dataset(dataset,'flan-t5-fin.csv')"
   ]
  },
  {
   "cell_type": "markdown",
   "id": "81b099a1",
   "metadata": {},
   "source": [
    "## Model - DistilBART-CNN-12-6\n",
    "### Without Finetune"
   ]
  },
  {
   "cell_type": "code",
   "execution_count": null,
   "id": "3de73b59",
   "metadata": {},
   "outputs": [],
   "source": [
    "pD = processData(data_folder)\n",
    "dataset = pD.read_data_huggingface(test_name = 'test_extractive.csv')\n",
    "name = 'sshleifer/distilbart-cnn-12-6'\n",
    "distilbartPre = GetSummary(dataset,'abstractive', model_name = name, tokenizer_name = name,test = True)\n",
    "distilbart_pretrained_summary = distilbartPre.get_summary(PARAMS_FLAN)\n",
    "evaluate = Evaluate('rouge', name)\n",
    "evaluate.compute_metrics(distilbart_pretrained_summary,labels)"
   ]
  },
  {
   "cell_type": "code",
   "execution_count": null,
   "id": "9f509935",
   "metadata": {},
   "outputs": [],
   "source": [
    "dataset = pD.read_data_huggingface('flan-t5-fin-v2.csv')['train']\n",
    "dataset = distilbartPre.add_column(distilbart_pretrained_summary,'distilbart',dataset)\n",
    "pD.save_dataset(dataset,'v3.csv')"
   ]
  },
  {
   "cell_type": "markdown",
   "id": "c23f5294",
   "metadata": {},
   "source": [
    "### With Finetune"
   ]
  },
  {
   "cell_type": "code",
   "execution_count": null,
   "id": "3a09e34c",
   "metadata": {},
   "outputs": [],
   "source": [
    "#finetune changed lr to 1e-5 from 5e-5 in FLAN \n",
    "torch.cuda.empty_cache()\n",
    "pD = processData(data_folder)\n",
    "dataset = pD.read_data_huggingface('train_extractive.csv', 'test_extractive.csv')\n",
    "name ='sshleifer/distilbart-cnn-12-6'\n",
    "final_name =  'distilbart-finetuned'\n",
    "myTrainer = Trainer(dataset,name,name, PARAMS_BART,final_name)\n",
    "distilbart_finetuned_summary, labels = myTrainer.run_trainer(save_model = True)\n",
    "evaluate = Evaluate('rouge', final_name)\n",
    "evaluate.compute_metrics(distilbart_finetuned_summary,labels)"
   ]
  },
  {
   "cell_type": "code",
   "execution_count": null,
   "id": "9f6a31ee",
   "metadata": {},
   "outputs": [],
   "source": [
    "# Inference with max_new_length\n",
    "pD = processData(data_folder)\n",
    "dataset = pD.read_data_huggingface('train_extractive.csv', 'test_extractive.csv')\n",
    "name =  'distilbart-finetuned'\n",
    "distilbartFin = GetSummary(dataset,'abstractive', model_name = name, tokenizer_name = name ,test = True)\n",
    "distilbart_finetuned_summary = distilbartFin.get_summary(PARAMS_BART)"
   ]
  },
  {
   "cell_type": "code",
   "execution_count": null,
   "id": "269b667d",
   "metadata": {},
   "outputs": [],
   "source": [
    "distilbart_finetuned_summary[6]"
   ]
  },
  {
   "cell_type": "code",
   "execution_count": null,
   "id": "b3bc438b",
   "metadata": {},
   "outputs": [],
   "source": [
    "dataset = pD.read_data_huggingface(train_name = 'v3.csv')['train']\n",
    "dataset =   dataset.add_column('distilbart-finetuned', distilbart_finetuned_summary)\n",
    "pD.save_dataset(dataset,'v4.csv')"
   ]
  },
  {
   "cell_type": "markdown",
   "id": "41a5ef2c",
   "metadata": {},
   "source": [
    "## Fact Verification"
   ]
  },
  {
   "cell_type": "markdown",
   "id": "c28b3ffb",
   "metadata": {},
   "source": [
    "###  1. RoBERTa Trained on FEVER"
   ]
  },
  {
   "cell_type": "code",
   "execution_count": null,
   "id": "f8ef8cde",
   "metadata": {
    "scrolled": true
   },
   "outputs": [],
   "source": [
    "tokenizer = RobertaTokenizer.from_pretrained('Dzeniks/roberta-fact-check')\n",
    "model = RobertaForSequenceClassification.from_pretrained('Dzeniks/roberta-fact-check')"
   ]
  },
  {
   "cell_type": "code",
   "execution_count": null,
   "id": "5f895154",
   "metadata": {},
   "outputs": [],
   "source": [
    "from tqdm import tqdm\n",
    "dataset = load_dataset(\"csv\", data_files={\"test\": os.path.join(data_folder,\"v5.csv\")})\n",
    "\n",
    "def get_fact_labels(model, tokenizer,claim_column):\n",
    "    final_labels = [] \n",
    "    for i in tqdm(range(len(dataset['test']))):\n",
    "        sample = dataset['test'][i]\n",
    "        tokens = nltk.sent_tokenize(sample[claim_column])\n",
    "        no_of_claims = len(tokens)\n",
    "        evidence = sample['Extractive']\n",
    "        label  = 0\n",
    "        no_of_claims_processed = 0\n",
    "        for claim in tokens:\n",
    "            no_of_claims_processed +=1\n",
    "            x = tokenizer.encode_plus(claim, evidence, return_tensors=\"pt\")\n",
    "            model.eval()\n",
    "            with torch.no_grad():\n",
    "                  prediction = model(**x)\n",
    "            label += 1- torch.argmax(prediction[0]).item()\n",
    "            if no_of_claims_processed >3:\n",
    "                break\n",
    "        div = no_of_claims if no_of_claims_processed > no_of_claims else no_of_claims_processed\n",
    "        final_label = label/div\n",
    "        final_labels.append(final_label)\n",
    "    return final_labels"
   ]
  },
  {
   "cell_type": "code",
   "execution_count": null,
   "id": "5027b8d4",
   "metadata": {},
   "outputs": [],
   "source": [
    "t5_facts = get_fact_labels(model, tokenizer,'t5-pretrained')\n",
    "sum(t5_facts)/len(t5_facts)"
   ]
  },
  {
   "cell_type": "code",
   "execution_count": null,
   "id": "396bbd0a",
   "metadata": {},
   "outputs": [],
   "source": [
    "distilbart_facts = get_fact_labels(model, tokenizer,'distilbart-finetuned')\n",
    "sum(distilbart_facts)/len(distilbart_facts)"
   ]
  },
  {
   "cell_type": "code",
   "execution_count": null,
   "id": "99593d24",
   "metadata": {},
   "outputs": [],
   "source": [
    "dataset = pD.read_data_huggingface(train_name = 'v4.csv')['train']\n",
    "dataset =   dataset.add_column('distilbart-finetuned-labels', distilbart_facts)\n",
    "pD.save_dataset(dataset,'v5.csv')\n"
   ]
  },
  {
   "cell_type": "markdown",
   "id": "4dbd405d",
   "metadata": {},
   "source": [
    "### 2. RoBERTa trained on ClimateFEVER"
   ]
  },
  {
   "cell_type": "code",
   "execution_count": null,
   "id": "ee312ef8",
   "metadata": {},
   "outputs": [],
   "source": [
    "tokenizer = AutoTokenizer.from_pretrained(\"roberta-base\")\n",
    "model = AutoModelForSequenceClassification.from_pretrained(\"roberta-base\", num_labels=2)\n"
   ]
  },
  {
   "cell_type": "code",
   "execution_count": null,
   "id": "66620a52",
   "metadata": {
    "scrolled": true
   },
   "outputs": [],
   "source": [
    "pD = processData(data_folder)\n",
    "# pD.process_climfever() #processes and saves the climfever dataset to run only once\n",
    "dataset = pD.read_data_huggingface(train_name = 'climate-fever-processed.csv')\n",
    "dataset = pD.train_test_split(dataset,no_of_train=725, no_of_test = 182)"
   ]
  },
  {
   "cell_type": "code",
   "execution_count": null,
   "id": "396f98b2",
   "metadata": {
    "scrolled": true
   },
   "outputs": [],
   "source": [
    "def preprocess_function(batch):\n",
    "    return tokenizer(batch[\"claim\"], batch[\"evidence\"], truncation=True, padding=\"max_length\")\n",
    "\n",
    "def compute_metrics(eval_pred):\n",
    "    f1_score = load(\"f1\")\n",
    "    logits, labels = eval_pred\n",
    "    predictions = np.argmax(logits, axis=-1)\n",
    "    f1_score.add_batch(predictions=predictions, references=labels)\n",
    "    return f1_score.compute()\n",
    "\n",
    "tokenized_data = dataset.map(preprocess_function, batched=True)\n",
    "\n",
    "training_args = TrainingArguments(\n",
    "    output_dir=\"roberta-climfever\",  # output directory\n",
    "    num_train_epochs=5,  # total # of training epochs\n",
    "    per_device_train_batch_size=8,  # batch size per device during training\n",
    "    per_device_eval_batch_size=8,  # batch size for evaluation\n",
    "#     warmup_steps=500,  # number of warmup steps for learning rate scheduler\n",
    "    weight_decay=0.01,  # strength of weight decay\n",
    "    learning_rate=2e-5,  # learning rate\n",
    "    save_total_limit=2,  # limit the total amount of checkpoints, delete the older checkpoints\n",
    "#     logging_dir=\"./logs\",  # directory for storing logs\n",
    "#     logging_steps=100,\n",
    "    evaluation_strategy=\"epoch\",\n",
    "    save_strategy=\"no\",\n",
    ")\n",
    " \n",
    "climfeverTrainer = HFTrainer(\n",
    "    model=model,  # the instantiated 🤗 Transformers model to be trained\n",
    "    args=training_args,  # training arguments, defined above\n",
    "    train_dataset=tokenized_data[\"train\"],  # training dataset\n",
    "    eval_dataset=tokenized_data[\"test\"],  # evaluation dataset\n",
    "    compute_metrics=compute_metrics,  # the callback that computes metrics of interest\n",
    ")\n",
    "climfeverTrainer.train()"
   ]
  },
  {
   "cell_type": "code",
   "execution_count": null,
   "id": "81d11da6",
   "metadata": {},
   "outputs": [],
   "source": [
    "model.save_pretrained(\"roberta-climfever\", from_pt=True) \n",
    "tokenizer.save_pretrained(\"roberta-climfever\")"
   ]
  },
  {
   "cell_type": "code",
   "execution_count": null,
   "id": "7ad754d4",
   "metadata": {},
   "outputs": [],
   "source": [
    "tokenizer = AutoTokenizer.from_pretrained(\"roberta-climfever\")\n",
    "model = AutoModelForSequenceClassification.from_pretrained(\"roberta-climfever\", num_labels=2)\n",
    "roberta_climfever_facts = get_fact_labels(model, tokenizer,'distilbart-finetuned')"
   ]
  },
  {
   "cell_type": "code",
   "execution_count": null,
   "id": "e68fd702",
   "metadata": {
    "scrolled": true
   },
   "outputs": [],
   "source": [
    "sum(roberta_climfever_facts)/50"
   ]
  },
  {
   "cell_type": "code",
   "execution_count": null,
   "id": "ee3e1d29",
   "metadata": {},
   "outputs": [],
   "source": [
    "pD = processData(data_folder)\n",
    "dataset = pD.read_data_huggingface(train_name = 'v5.csv')['train']\n",
    "dataset =   dataset.add_column('distilbart-finetuned-labels-roberta-climfever', roberta_climfever_facts)\n",
    "pD.save_dataset(dataset,'v6.csv')"
   ]
  },
  {
   "cell_type": "markdown",
   "id": "20189279",
   "metadata": {},
   "source": [
    "### 3. ClimateBERT trained on ClimateFEVER\n"
   ]
  },
  {
   "cell_type": "code",
   "execution_count": null,
   "id": "7b806c9d",
   "metadata": {},
   "outputs": [],
   "source": [
    "model = AutoModelForSequenceClassification.from_pretrained(\"amandakonet/climatebert-fact-checking\")\n",
    "tokenizer = AutoTokenizer.from_pretrained(\"amandakonet/climatebert-fact-checking\")\n",
    "from tqdm import tqdm\n",
    "dataset = load_dataset(\"csv\", data_files={\"test\": os.path.join(data_folder,\"v5.csv\")})\n",
    "def get_fact_labels_climfever(model, tokenizer,claim_column):\n",
    "    final_labels = [] \n",
    "    for i in tqdm(range(len(dataset['test']))):\n",
    "        sample = dataset['test'][i]\n",
    "        tokens = nltk.sent_tokenize(sample[claim_column])\n",
    "        no_of_claims = len(tokens)\n",
    "        evidence = sample['Extractive']\n",
    "        label_count  = 0\n",
    "        no_of_claims_processed = 0\n",
    "        for claim in tokens:\n",
    "#             print(f\"Claim: {claim} \\n Evidence : {evidence}\")\n",
    "            no_of_claims_processed +=1\n",
    "            x = tokenizer(claim, evidence, return_tensors=\"pt\",\\\n",
    "                                      padding='max_length', truncation=True, max_length=512)\n",
    "            model.eval()\n",
    "            with torch.no_grad():\n",
    "                scores = model(**x).logits\n",
    "                label_mapping = ['support', 'refute', 'neutral']\n",
    "                label = scores.argmax(dim=1).item()\n",
    "                if label == 2:\n",
    "                    label = np.argmax(scores[0][:2]).item()\n",
    "                label_count += 1 - label\n",
    "                if no_of_claims_processed >3:\n",
    "                    break\n",
    "        div = no_of_claims if no_of_claims_processed > no_of_claims else no_of_claims_processed\n",
    "        final_label = label_count/div\n",
    "        final_labels.append(final_label)\n",
    "    return final_labels\n",
    "\n",
    "\n",
    "climbert_facts = get_fact_labels_climfever(model, tokenizer,'distilbart-finetuned')"
   ]
  },
  {
   "cell_type": "code",
   "execution_count": null,
   "id": "28fd9055",
   "metadata": {},
   "outputs": [],
   "source": [
    "sum(climbert_facts)/len(climbert_facts)"
   ]
  },
  {
   "cell_type": "code",
   "execution_count": null,
   "id": "7ea9dd3a",
   "metadata": {},
   "outputs": [],
   "source": [
    "pD = processData(data_folder)\n",
    "dataset = pD.read_data_huggingface(train_name = 'v5.csv')['train']\n",
    "dataset =   dataset.add_column('distilbart-finetuned-labels-climbert', climbert_facts)\n",
    "pD.save_dataset(dataset,'v5.csv')\n"
   ]
  }
 ],
 "metadata": {
  "kernelspec": {
   "display_name": "Python 3 (ipykernel)",
   "language": "python",
   "name": "python3"
  },
  "language_info": {
   "codemirror_mode": {
    "name": "ipython",
    "version": 3
   },
   "file_extension": ".py",
   "mimetype": "text/x-python",
   "name": "python",
   "nbconvert_exporter": "python",
   "pygments_lexer": "ipython3",
   "version": "3.9.5"
  }
 },
 "nbformat": 4,
 "nbformat_minor": 5
}
